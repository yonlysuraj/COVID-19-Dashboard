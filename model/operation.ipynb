{
 "cells": [
  {
   "cell_type": "code",
   "execution_count": 3,
   "id": "f10a92ca",
   "metadata": {},
   "outputs": [],
   "source": [
    "import numpy as np\n",
    "import pandas as pd\n",
    "import seaborn as sns"
   ]
  },
  {
   "cell_type": "code",
   "execution_count": 4,
   "id": "055e7e37",
   "metadata": {},
   "outputs": [],
   "source": [
    "patients= pd.read_csv(r\"C:\\Users\\suraj\\OneDrive\\Documents\\ML Projects\\COVID-19\\dataset\\IndividualDetails.csv\")"
   ]
  },
  {
   "cell_type": "code",
   "execution_count": 5,
   "id": "ace8be60",
   "metadata": {},
   "outputs": [
    {
     "data": {
      "text/plain": [
       "current_status\n",
       "Hospitalized    8301\n",
       "Recovered        139\n",
       "Deceased          30\n",
       "Migrated           1\n",
       "Name: count, dtype: int64"
      ]
     },
     "execution_count": 5,
     "metadata": {},
     "output_type": "execute_result"
    }
   ],
   "source": [
    "patients['current_status'].value_counts()"
   ]
  },
  {
   "cell_type": "code",
   "execution_count": 7,
   "id": "148234d5",
   "metadata": {},
   "outputs": [],
   "source": [
    "total=patients.shape[0]\n",
    "active=patients[patients['current_status']=='Hospitalized'].shape[0]\n",
    "recovered=patients[patients['current_status']=='Recovered'].shape[0]\n",
    "deceased=patients[patients['current_status']=='Deceased'].shape[0]"
   ]
  },
  {
   "cell_type": "code",
   "execution_count": 9,
   "id": "21b60038",
   "metadata": {},
   "outputs": [
    {
     "data": {
      "text/plain": [
       "detected_state\n",
       "Maharashtra                    1761\n",
       "Delhi                          1069\n",
       "Tamil Nadu                      969\n",
       "Rajasthan                       700\n",
       "Madhya Pradesh                  529\n",
       "Telangana                       503\n",
       "Gujarat                         468\n",
       "Uttar Pradesh                   452\n",
       "Andhra Pradesh                  405\n",
       "Kerala                          373\n",
       "Karnataka                       226\n",
       "Jammu and Kashmir               224\n",
       "Haryana                         179\n",
       "Punjab                          158\n",
       "West Bengal                     134\n",
       "Bihar                            64\n",
       "Odisha                           54\n",
       "Uttarakhand                      35\n",
       "Himachal Pradesh                 32\n",
       "Assam                            29\n",
       "Chhattisgarh                     25\n",
       "Chandigarh                       19\n",
       "Jharkhand                        17\n",
       "Ladakh                           15\n",
       "Andaman and Nicobar Islands      11\n",
       "Puducherry                        7\n",
       "Goa                               7\n",
       "Manipur                           2\n",
       "Tripura                           2\n",
       "Mizoram                           1\n",
       "Arunachal Pradesh                 1\n",
       "Dadra and Nagar Haveli            1\n",
       "Name: count, dtype: int64"
      ]
     },
     "execution_count": 9,
     "metadata": {},
     "output_type": "execute_result"
    }
   ],
   "source": [
    "patients_bar=patients['detected_state'].value_counts().reset_index()"
   ]
  },
  {
   "cell_type": "code",
   "execution_count": null,
   "id": "5c20c808",
   "metadata": {},
   "outputs": [],
   "source": []
  }
 ],
 "metadata": {
  "kernelspec": {
   "display_name": ".venv",
   "language": "python",
   "name": "python3"
  },
  "language_info": {
   "codemirror_mode": {
    "name": "ipython",
    "version": 3
   },
   "file_extension": ".py",
   "mimetype": "text/x-python",
   "name": "python",
   "nbconvert_exporter": "python",
   "pygments_lexer": "ipython3",
   "version": "3.13.3"
  }
 },
 "nbformat": 4,
 "nbformat_minor": 5
}
